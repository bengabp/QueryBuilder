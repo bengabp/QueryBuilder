{
 "cells": [
  {
   "cell_type": "markdown",
   "metadata": {},
   "source": [
    "## Convert dictionary tree to dot-joined strings"
   ]
  },
  {
   "cell_type": "code",
   "execution_count": 13,
   "metadata": {},
   "outputs": [
    {
     "name": "stdout",
     "output_type": "stream",
     "text": [
      "['name.class.grade3', 'name.class.grade.numbers.9']\n"
     ]
    }
   ],
   "source": [
    "def build_target_format(obj, parent_key=''):\n",
    "    result = []\n",
    "    for key, value in obj.items():\n",
    "        current_key = f\"{parent_key}.{key}\" if parent_key else key\n",
    "        if isinstance(value, dict):\n",
    "            result.extend(build_target_format(value, current_key))\n",
    "        else:\n",
    "            result.append(current_key)\n",
    "    return result\n",
    "\n",
    "\n",
    "\"\"\" javascript\n",
    "function buildTargetFormat(obj, parentKey = '') {\n",
    "  let result = [];\n",
    "  for (const [key, value] of Object.entries(obj)) {\n",
    "    const currentKey = parentKey ? `${parentKey}.${key}` : key;\n",
    "    if (typeof value === 'object' && value !== null) {\n",
    "      result = result.concat(buildTargetFormat(value, currentKey));\n",
    "    } else {\n",
    "      result.push(currentKey);\n",
    "    }\n",
    "  }\n",
    "  return result;\n",
    "}\n",
    "\n",
    "\"\"\"\n",
    "# Sample data dictionary\n",
    "data = {\n",
    "    'name': {\n",
    "        'class': {\n",
    "            'grade3': 'grade3',\n",
    "            'grade': {\n",
    "                'numbers': {\n",
    "                    '9': '9'\n",
    "                }\n",
    "            }\n",
    "        }\n",
    "    }\n",
    "}\n",
    "\n",
    "# Call the function with your data dictionary to get the target format\n",
    "queries = build_target_format(data)\n",
    "print(queries)"
   ]
  },
  {
   "cell_type": "markdown",
   "metadata": {},
   "source": []
  },
  {
   "cell_type": "markdown",
   "metadata": {},
   "source": [
    "## Merge 2 dictionaries without lossing keys and values"
   ]
  },
  {
   "cell_type": "code",
   "execution_count": 6,
   "metadata": {},
   "outputs": [
    {
     "name": "stdout",
     "output_type": "stream",
     "text": [
      "{'name': {'class': {'grade': {'numbers': {'9': '9', '8': '8'}}}}}\n"
     ]
    }
   ],
   "source": [
    "def merge_dicts(dict1, dict2):\n",
    "    merged_dict = dict1.copy()\n",
    "\n",
    "    for key, value in dict2.items():\n",
    "        if key in merged_dict and isinstance(merged_dict[key], dict) and isinstance(value, dict):\n",
    "            merged_dict[key] = merge_dicts(merged_dict[key], value)\n",
    "        else:\n",
    "            merged_dict[key] = value\n",
    "\n",
    "    return merged_dict\n",
    "\n",
    "\"\"\"\n",
    "function mergeDicts(dict1, dict2) {\n",
    "  const mergedDict = { ...dict1 }; // Create a shallow copy of dict1\n",
    "\n",
    "  for (const [key, value] of Object.entries(dict2)) {\n",
    "    if (key in mergedDict && typeof mergedDict[key] === 'object' && typeof value === 'object') {\n",
    "      // Recursively merge nested objects\n",
    "      mergedDict[key] = mergeDicts(mergedDict[key], value);\n",
    "    } else {\n",
    "      mergedDict[key] = value;\n",
    "    }\n",
    "  }\n",
    "\n",
    "  return mergedDict;\n",
    "}\n",
    "\"\"\"\n",
    "\n",
    "dict1 = {'name': {'class': {'grade': {'numbers': {'9': '9'}}}}}\n",
    "\n",
    "dict2 = {'name': {'class': {'grade': {'numbers': {'8': '8'}}}}}\n",
    "\n",
    "\n",
    "dict3 = merge_dicts(dict1, dict2)\n",
    "print(dict3)\n",
    "\n",
    "\n"
   ]
  },
  {
   "cell_type": "markdown",
   "metadata": {},
   "source": [
    "## Convert s dot-joined strings to dictionary tree"
   ]
  },
  {
   "cell_type": "code",
   "execution_count": 5,
   "metadata": {},
   "outputs": [
    {
     "name": "stdout",
     "output_type": "stream",
     "text": [
      "{'name': {'class': {'grade': {'numbers': {'9': '9'}}}}}\n",
      "{'name': {'class': {'grade3': 'grade3'}}}\n",
      "{'name': {'class': {'grade': {'numbers': {'8': '8'}}}}}\n",
      "{'name': {'class': {'grade': {'numbers': 'numbers'}}}}\n"
     ]
    }
   ],
   "source": [
    "from pprint import pprint\n",
    "\n",
    "def convert_string_to_dict(input_string):\n",
    "    result = {}\n",
    "\n",
    "    keys_values = input_string.split('.')\n",
    "    current_dict = result\n",
    "\n",
    "    for i, key in enumerate(keys_values):\n",
    "        if i == len(keys_values) - 1:\n",
    "            current_dict[key] = keys_values[-1]\n",
    "        else:\n",
    "            current_dict[key] = {}\n",
    "            current_dict = current_dict[key]\n",
    "\n",
    "    return result\n",
    "\n",
    "\n",
    "\"\"\"\n",
    "function convertStringToDict(inputString) {\n",
    "  const result = {};\n",
    "  const keysValues = inputString.split('.');\n",
    "  let currentDict = result;\n",
    "\n",
    "  for (let i = 0; i < keysValues.length; i++) {\n",
    "    const key = keysValues[i];\n",
    "    if (i === keysValues.length - 1) {\n",
    "      currentDict[key] = key;\n",
    "    } else {\n",
    "      currentDict[key] = {};\n",
    "      currentDict = currentDict[key];\n",
    "    }\n",
    "  }\n",
    "\n",
    "  return result;\n",
    "}\n",
    "\"\"\"\n",
    "\n",
    "# Example usage:\n",
    "input_string1 = \"name.class.grade3\"\n",
    "input_string2 = \"name.class.grade.numbers.9\"\n",
    "input_string3 = \"name.class.grade.numbers.8\"\n",
    "input_string4 = \"name.class.grade.numbers\"\n",
    "\n",
    "output_dict1 = convert_string_to_dict(input_string1)\n",
    "output_dict2 = convert_string_to_dict(input_string2)\n",
    "output_dict3 = convert_string_to_dict(input_string3)\n",
    "output_dict4 = convert_string_to_dict(input_string4)\n",
    "\n",
    "pprint(output_dict2)\n",
    "pprint(output_dict1)\n",
    "pprint(output_dict3)\n",
    "pprint(output_dict4)\n",
    "\n"
   ]
  }
 ],
 "metadata": {
  "kernelspec": {
   "display_name": "Python 3",
   "language": "python",
   "name": "python3"
  },
  "language_info": {
   "codemirror_mode": {
    "name": "ipython",
    "version": 3
   },
   "file_extension": ".py",
   "mimetype": "text/x-python",
   "name": "python",
   "nbconvert_exporter": "python",
   "pygments_lexer": "ipython3",
   "version": "3.10.9"
  },
  "orig_nbformat": 4
 },
 "nbformat": 4,
 "nbformat_minor": 2
}
